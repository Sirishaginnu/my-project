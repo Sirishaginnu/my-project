{
  "nbformat": 4,
  "nbformat_minor": 0,
  "metadata": {
    "colab": {
      "name": "SmartFireDetection1.ipynb",
      "provenance": [],
      "authorship_tag": "ABX9TyNt/9aJGyiEqdjqgrhR3RBG",
      "include_colab_link": true
    },
    "kernelspec": {
      "name": "python3",
      "display_name": "Python 3"
    },
    "language_info": {
      "name": "python"
    }
  },
  "cells": [
    {
      "cell_type": "markdown",
      "metadata": {
        "id": "view-in-github",
        "colab_type": "text"
      },
      "source": [
        "<a href=\"https://colab.research.google.com/github/Sirishaginnu/my-project/blob/main/SmartFireDetection1.ipynb\" target=\"_parent\"><img src=\"https://colab.research.google.com/assets/colab-badge.svg\" alt=\"Open In Colab\"/></a>"
      ]
    },
    {
      "cell_type": "code",
      "metadata": {
        "colab": {
          "base_uri": "https://localhost:8080/",
          "height": 363
        },
        "id": "dLrkZOfA-ckP",
        "outputId": "a7f9d7c5-da44-450e-a56d-89f73d3b3d04"
      },
      "source": [
        "import conf                           # IMPORTING CONF.PY FILE \n",
        "from boltiot import Sms, Bolt,Email   # IMPORTING THE SMS , EMAIL AND BOLT MODULE\n",
        "import json,time                         # IMPORTING JSON - TO CONVERT RESPONSE \n",
        "\n",
        "def main_process():\n",
        "\n",
        "    maximum_limit = 28.0 # SENSOR LIMIT IN CELSIUS \n",
        "    mybolt = Bolt(conf.API_KEY, conf.DEVICE_ID) # TO GET THE BOLT MODULE\n",
        "    sms = Sms(conf.SID, conf.AUTH_TOKEN, conf.TO_NUMBER, conf.FROM_NUMBER) \n",
        "    mailer = Email(conf.MAILGUN_API_KEY,conf.SANDBOX_URL,conf.SENDER_EMAIL,conf.RECIPIENT_EMAIL)\n",
        "\n",
        "    is_Fire = False # INITIALLY FIRE ISN'T PRESENT ASSUMPTION \n",
        "\n",
        "    status = json.loads(mybolt.isOnline())  # TO GET THE STATUS OF THE BOLT MODULE \n",
        "    print(\"Status Check : \",status[\"value\"])  \n",
        "\n",
        "    if status[\"value\"] != \"offline\":   # ONLY IF THE MODULE IS ONLINE , WE PROCEED \n",
        "        while True: \n",
        "            print (\"Reading sensor value\")\n",
        "            response = mybolt.analogRead('A0')   # READING THE SENSOR DATA \n",
        "            data = json.loads(response)  # USED TO CONVERT THE RESPONSE INTO PYTHON DICTIONARY \n",
        "\n",
        "            try:\n",
        "                flag = 1\n",
        "                sensor_value = int(data['value'])  \n",
        "                temp1 = (100*sensor_value)/1024  # CONVERTING TEMPERATURE INTO CELSIUS\n",
        "                print(\"Sensor value is: \" + str(temp1))  # PRINTING THE SENSOR VALUE \n",
        "\n",
        "                while temp1 > maximum_limit:  # IF THE TEMP VALUE > GIVEN VALUE IE THERE IS FIRE\n",
        "                    if flag == 1: \n",
        "                        response = sms.send_sms(\"Attention !! Fire in college\")  # SMS IS SENT TO THE MOBILE NUMBER MENTIONED \n",
        "                        print(\"Response received from Twilio is: \" + str(response)) \n",
        "                        print(\"Status of SMS at Twilio is :\" + str(response.status))\n",
        "\n",
        "                        response_mail = mailer.send_email(\"Alert\", \"There is fire in the college\")  # MAIL IS SENT TO THE MAIL ID MENTIONED\n",
        "                        response_text = json.loads(response_mail.text)\n",
        "                        print(\"Response received from Mailgun is: \" + str(response_text['message']))\n",
        "\n",
        "                    # SETTING THE VALUE OF BOTH BUZZER AND LED IS SET TO 'HIGH'\n",
        "                    mybolt.digitalWrite('1', 'HIGH')\n",
        "                    mybolt.digitalWrite('2', 'HIGH')\n",
        "                    response = mybolt.analogRead('A0') \n",
        "                    data = json.loads(response)\n",
        "                    sensor_value = int(data['value'])\n",
        "                    temp1 = (100*sensor_value)/1024 \n",
        "                    print(\"Sensor value is: \" + str(temp1))\n",
        "                    flag = 0\n",
        "                    is_Fire = True\n",
        "\n",
        "                # AFTER ALERT HAS BEEN SENT , SET IT TO LOW\n",
        "                mybolt.digitalWrite('2', 'LOW') \n",
        "                mybolt.digitalWrite('1', 'LOW')\n",
        "                if is_Fire:\n",
        "                      print(\"Response received from Twilio is: \" + str(response))\n",
        "                      print(\"Status of SMS at Twilio is :\" + str(response.status))\n",
        "            except Exception as e:\n",
        "                print (\"Error occured: Below are the details\")\n",
        "                print (e)\n",
        "            time.sleep(10)\n",
        "    else:\n",
        "        print(\"Device is Offline\")\n",
        "\n",
        "if __name__ == '__main__':\n",
        "    main_process()"
      ],
      "execution_count": 1,
      "outputs": [
        {
          "output_type": "error",
          "ename": "ModuleNotFoundError",
          "evalue": "ignored",
          "traceback": [
            "\u001b[0;31m---------------------------------------------------------------------------\u001b[0m",
            "\u001b[0;31mModuleNotFoundError\u001b[0m                       Traceback (most recent call last)",
            "\u001b[0;32m<ipython-input-1-8732752ea685>\u001b[0m in \u001b[0;36m<module>\u001b[0;34m()\u001b[0m\n\u001b[0;32m----> 1\u001b[0;31m \u001b[0;32mimport\u001b[0m \u001b[0mconf\u001b[0m                           \u001b[0;31m# IMPORTING CONF.PY FILE\u001b[0m\u001b[0;34m\u001b[0m\u001b[0;34m\u001b[0m\u001b[0m\n\u001b[0m\u001b[1;32m      2\u001b[0m \u001b[0;32mfrom\u001b[0m \u001b[0mboltiot\u001b[0m \u001b[0;32mimport\u001b[0m \u001b[0mSms\u001b[0m\u001b[0;34m,\u001b[0m \u001b[0mBolt\u001b[0m\u001b[0;34m,\u001b[0m\u001b[0mEmail\u001b[0m   \u001b[0;31m# IMPORTING THE SMS , EMAIL AND BOLT MODULE\u001b[0m\u001b[0;34m\u001b[0m\u001b[0;34m\u001b[0m\u001b[0m\n\u001b[1;32m      3\u001b[0m \u001b[0;32mimport\u001b[0m \u001b[0mjson\u001b[0m\u001b[0;34m,\u001b[0m\u001b[0mtime\u001b[0m                         \u001b[0;31m# IMPORTING JSON - TO CONVERT RESPONSE\u001b[0m\u001b[0;34m\u001b[0m\u001b[0;34m\u001b[0m\u001b[0m\n\u001b[1;32m      4\u001b[0m \u001b[0;34m\u001b[0m\u001b[0m\n\u001b[1;32m      5\u001b[0m \u001b[0;32mdef\u001b[0m \u001b[0mmain_process\u001b[0m\u001b[0;34m(\u001b[0m\u001b[0;34m)\u001b[0m\u001b[0;34m:\u001b[0m\u001b[0;34m\u001b[0m\u001b[0;34m\u001b[0m\u001b[0m\n",
            "\u001b[0;31mModuleNotFoundError\u001b[0m: No module named 'conf'",
            "",
            "\u001b[0;31m---------------------------------------------------------------------------\u001b[0;32m\nNOTE: If your import is failing due to a missing package, you can\nmanually install dependencies using either !pip or !apt.\n\nTo view examples of installing some common dependencies, click the\n\"Open Examples\" button below.\n\u001b[0;31m---------------------------------------------------------------------------\u001b[0m\n"
          ],
          "errorDetails": {
            "actions": [
              {
                "action": "open_url",
                "actionText": "Open Examples",
                "url": "/notebooks/snippets/importing_libraries.ipynb"
              }
            ]
          }
        }
      ]
    }
  ]
}